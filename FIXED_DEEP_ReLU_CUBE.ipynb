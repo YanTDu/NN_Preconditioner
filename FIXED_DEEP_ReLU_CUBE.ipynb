{
  "nbformat": 4,
  "nbformat_minor": 0,
  "metadata": {
    "colab": {
      "provenance": [],
      "gpuType": "T4"
    },
    "kernelspec": {
      "name": "python3",
      "display_name": "Python 3"
    },
    "language_info": {
      "name": "python"
    },
    "accelerator": "GPU",
    "widgets": {
      "application/vnd.jupyter.widget-state+json": {
        "d67034598d854a3898f361d487c6d28d": {
          "model_module": "@jupyter-widgets/controls",
          "model_name": "HBoxModel",
          "model_module_version": "1.5.0",
          "state": {
            "_dom_classes": [],
            "_model_module": "@jupyter-widgets/controls",
            "_model_module_version": "1.5.0",
            "_model_name": "HBoxModel",
            "_view_count": null,
            "_view_module": "@jupyter-widgets/controls",
            "_view_module_version": "1.5.0",
            "_view_name": "HBoxView",
            "box_style": "",
            "children": [
              "IPY_MODEL_f43d74bd939b4c989e3f30ce0a412a71",
              "IPY_MODEL_2790bce11c0849778e79b387719043fd",
              "IPY_MODEL_5df2ae16dbfb41178b593b9e7c5849e7"
            ],
            "layout": "IPY_MODEL_d75f20a4b2c44ea796323917820b7d65"
          }
        },
        "f43d74bd939b4c989e3f30ce0a412a71": {
          "model_module": "@jupyter-widgets/controls",
          "model_name": "HTMLModel",
          "model_module_version": "1.5.0",
          "state": {
            "_dom_classes": [],
            "_model_module": "@jupyter-widgets/controls",
            "_model_module_version": "1.5.0",
            "_model_name": "HTMLModel",
            "_view_count": null,
            "_view_module": "@jupyter-widgets/controls",
            "_view_module_version": "1.5.0",
            "_view_name": "HTMLView",
            "description": "",
            "description_tooltip": null,
            "layout": "IPY_MODEL_57695f9382474951aa04aa03978635df",
            "placeholder": "​",
            "style": "IPY_MODEL_7052d744fa054dd993541b408e8576d4",
            "value": "Pre/no-pre only:  20%"
          }
        },
        "2790bce11c0849778e79b387719043fd": {
          "model_module": "@jupyter-widgets/controls",
          "model_name": "FloatProgressModel",
          "model_module_version": "1.5.0",
          "state": {
            "_dom_classes": [],
            "_model_module": "@jupyter-widgets/controls",
            "_model_module_version": "1.5.0",
            "_model_name": "FloatProgressModel",
            "_view_count": null,
            "_view_module": "@jupyter-widgets/controls",
            "_view_module_version": "1.5.0",
            "_view_name": "ProgressView",
            "bar_style": "",
            "description": "",
            "description_tooltip": null,
            "layout": "IPY_MODEL_a507596a20cd46cb85040ef4524c3959",
            "max": 5,
            "min": 0,
            "orientation": "horizontal",
            "style": "IPY_MODEL_5a4e43240e0248d0b2fcb59cde8122f3",
            "value": 1
          }
        },
        "5df2ae16dbfb41178b593b9e7c5849e7": {
          "model_module": "@jupyter-widgets/controls",
          "model_name": "HTMLModel",
          "model_module_version": "1.5.0",
          "state": {
            "_dom_classes": [],
            "_model_module": "@jupyter-widgets/controls",
            "_model_module_version": "1.5.0",
            "_model_name": "HTMLModel",
            "_view_count": null,
            "_view_module": "@jupyter-widgets/controls",
            "_view_module_version": "1.5.0",
            "_view_name": "HTMLView",
            "description": "",
            "description_tooltip": null,
            "layout": "IPY_MODEL_e2b6d7d9f23e4099b5fde7683aff1c96",
            "placeholder": "​",
            "style": "IPY_MODEL_1938f4ee06064814962c0224f21db3d4",
            "value": " 1/5 [02:19&lt;09:16, 139.20s/it]"
          }
        },
        "d75f20a4b2c44ea796323917820b7d65": {
          "model_module": "@jupyter-widgets/base",
          "model_name": "LayoutModel",
          "model_module_version": "1.2.0",
          "state": {
            "_model_module": "@jupyter-widgets/base",
            "_model_module_version": "1.2.0",
            "_model_name": "LayoutModel",
            "_view_count": null,
            "_view_module": "@jupyter-widgets/base",
            "_view_module_version": "1.2.0",
            "_view_name": "LayoutView",
            "align_content": null,
            "align_items": null,
            "align_self": null,
            "border": null,
            "bottom": null,
            "display": null,
            "flex": null,
            "flex_flow": null,
            "grid_area": null,
            "grid_auto_columns": null,
            "grid_auto_flow": null,
            "grid_auto_rows": null,
            "grid_column": null,
            "grid_gap": null,
            "grid_row": null,
            "grid_template_areas": null,
            "grid_template_columns": null,
            "grid_template_rows": null,
            "height": null,
            "justify_content": null,
            "justify_items": null,
            "left": null,
            "margin": null,
            "max_height": null,
            "max_width": null,
            "min_height": null,
            "min_width": null,
            "object_fit": null,
            "object_position": null,
            "order": null,
            "overflow": null,
            "overflow_x": null,
            "overflow_y": null,
            "padding": null,
            "right": null,
            "top": null,
            "visibility": null,
            "width": null
          }
        },
        "57695f9382474951aa04aa03978635df": {
          "model_module": "@jupyter-widgets/base",
          "model_name": "LayoutModel",
          "model_module_version": "1.2.0",
          "state": {
            "_model_module": "@jupyter-widgets/base",
            "_model_module_version": "1.2.0",
            "_model_name": "LayoutModel",
            "_view_count": null,
            "_view_module": "@jupyter-widgets/base",
            "_view_module_version": "1.2.0",
            "_view_name": "LayoutView",
            "align_content": null,
            "align_items": null,
            "align_self": null,
            "border": null,
            "bottom": null,
            "display": null,
            "flex": null,
            "flex_flow": null,
            "grid_area": null,
            "grid_auto_columns": null,
            "grid_auto_flow": null,
            "grid_auto_rows": null,
            "grid_column": null,
            "grid_gap": null,
            "grid_row": null,
            "grid_template_areas": null,
            "grid_template_columns": null,
            "grid_template_rows": null,
            "height": null,
            "justify_content": null,
            "justify_items": null,
            "left": null,
            "margin": null,
            "max_height": null,
            "max_width": null,
            "min_height": null,
            "min_width": null,
            "object_fit": null,
            "object_position": null,
            "order": null,
            "overflow": null,
            "overflow_x": null,
            "overflow_y": null,
            "padding": null,
            "right": null,
            "top": null,
            "visibility": null,
            "width": null
          }
        },
        "7052d744fa054dd993541b408e8576d4": {
          "model_module": "@jupyter-widgets/controls",
          "model_name": "DescriptionStyleModel",
          "model_module_version": "1.5.0",
          "state": {
            "_model_module": "@jupyter-widgets/controls",
            "_model_module_version": "1.5.0",
            "_model_name": "DescriptionStyleModel",
            "_view_count": null,
            "_view_module": "@jupyter-widgets/base",
            "_view_module_version": "1.2.0",
            "_view_name": "StyleView",
            "description_width": ""
          }
        },
        "a507596a20cd46cb85040ef4524c3959": {
          "model_module": "@jupyter-widgets/base",
          "model_name": "LayoutModel",
          "model_module_version": "1.2.0",
          "state": {
            "_model_module": "@jupyter-widgets/base",
            "_model_module_version": "1.2.0",
            "_model_name": "LayoutModel",
            "_view_count": null,
            "_view_module": "@jupyter-widgets/base",
            "_view_module_version": "1.2.0",
            "_view_name": "LayoutView",
            "align_content": null,
            "align_items": null,
            "align_self": null,
            "border": null,
            "bottom": null,
            "display": null,
            "flex": null,
            "flex_flow": null,
            "grid_area": null,
            "grid_auto_columns": null,
            "grid_auto_flow": null,
            "grid_auto_rows": null,
            "grid_column": null,
            "grid_gap": null,
            "grid_row": null,
            "grid_template_areas": null,
            "grid_template_columns": null,
            "grid_template_rows": null,
            "height": null,
            "justify_content": null,
            "justify_items": null,
            "left": null,
            "margin": null,
            "max_height": null,
            "max_width": null,
            "min_height": null,
            "min_width": null,
            "object_fit": null,
            "object_position": null,
            "order": null,
            "overflow": null,
            "overflow_x": null,
            "overflow_y": null,
            "padding": null,
            "right": null,
            "top": null,
            "visibility": null,
            "width": null
          }
        },
        "5a4e43240e0248d0b2fcb59cde8122f3": {
          "model_module": "@jupyter-widgets/controls",
          "model_name": "ProgressStyleModel",
          "model_module_version": "1.5.0",
          "state": {
            "_model_module": "@jupyter-widgets/controls",
            "_model_module_version": "1.5.0",
            "_model_name": "ProgressStyleModel",
            "_view_count": null,
            "_view_module": "@jupyter-widgets/base",
            "_view_module_version": "1.2.0",
            "_view_name": "StyleView",
            "bar_color": null,
            "description_width": ""
          }
        },
        "e2b6d7d9f23e4099b5fde7683aff1c96": {
          "model_module": "@jupyter-widgets/base",
          "model_name": "LayoutModel",
          "model_module_version": "1.2.0",
          "state": {
            "_model_module": "@jupyter-widgets/base",
            "_model_module_version": "1.2.0",
            "_model_name": "LayoutModel",
            "_view_count": null,
            "_view_module": "@jupyter-widgets/base",
            "_view_module_version": "1.2.0",
            "_view_name": "LayoutView",
            "align_content": null,
            "align_items": null,
            "align_self": null,
            "border": null,
            "bottom": null,
            "display": null,
            "flex": null,
            "flex_flow": null,
            "grid_area": null,
            "grid_auto_columns": null,
            "grid_auto_flow": null,
            "grid_auto_rows": null,
            "grid_column": null,
            "grid_gap": null,
            "grid_row": null,
            "grid_template_areas": null,
            "grid_template_columns": null,
            "grid_template_rows": null,
            "height": null,
            "justify_content": null,
            "justify_items": null,
            "left": null,
            "margin": null,
            "max_height": null,
            "max_width": null,
            "min_height": null,
            "min_width": null,
            "object_fit": null,
            "object_position": null,
            "order": null,
            "overflow": null,
            "overflow_x": null,
            "overflow_y": null,
            "padding": null,
            "right": null,
            "top": null,
            "visibility": null,
            "width": null
          }
        },
        "1938f4ee06064814962c0224f21db3d4": {
          "model_module": "@jupyter-widgets/controls",
          "model_name": "DescriptionStyleModel",
          "model_module_version": "1.5.0",
          "state": {
            "_model_module": "@jupyter-widgets/controls",
            "_model_module_version": "1.5.0",
            "_model_name": "DescriptionStyleModel",
            "_view_count": null,
            "_view_module": "@jupyter-widgets/base",
            "_view_module_version": "1.2.0",
            "_view_name": "StyleView",
            "description_width": ""
          }
        }
      }
    }
  },
  "cells": [
    {
      "cell_type": "markdown",
      "source": [
        "## Preconditioner Creation"
      ],
      "metadata": {
        "id": "_irZq7t0H7Tz"
      }
    },
    {
      "cell_type": "markdown",
      "source": [
        "### ReLU"
      ],
      "metadata": {
        "id": "woqd0UggQ599"
      }
    },
    {
      "cell_type": "code",
      "execution_count": null,
      "metadata": {
        "id": "t-GKCR7vHoSU"
      },
      "outputs": [],
      "source": [
        "import torch\n",
        "import numpy as np\n",
        "\n",
        "def create_T_torch(m, device='cuda'):\n",
        "    \"\"\"Create a tridiagonal Toeplitz matrix on GPU with pattern [1, -2, 1].\"\"\"\n",
        "    main_diag = -2 * torch.ones(m, device=device)\n",
        "    upper_diag = torch.ones(m-1, device=device)\n",
        "    lower_diag = torch.ones(m-1, device=device)\n",
        "\n",
        "    T = torch.diag(main_diag, diagonal=0)\n",
        "    T = T + torch.diag(upper_diag, diagonal=1)\n",
        "    T = T + torch.diag(lower_diag, diagonal=-1)\n",
        "    return T\n",
        "\n",
        "def create_preconditioner_B2_with_minus_T_torch(N, device='cuda'):\n",
        "    \"\"\"Create block-diagonal preconditioner matrix B on GPU.\"\"\"\n",
        "    minus_T_N = -create_T_torch(N, device)\n",
        "\n",
        "    # Kronecker product for parameter block\n",
        "    T_kron = torch.kron(minus_T_N, minus_T_N)\n",
        "\n",
        "    # Create block diagonal matrix\n",
        "    blocks = [minus_T_N, minus_T_N, T_kron, minus_T_N, minus_T_N, torch.ones(1, device=device)]\n",
        "    total_size = sum(b.shape[0] for b in blocks)\n",
        "    B = torch.zeros((total_size, total_size), device=device)\n",
        "\n",
        "    offset = 0\n",
        "    for block in blocks:\n",
        "        size = block.shape[0]\n",
        "        B[offset:offset+size, offset:offset+size] = block\n",
        "        offset += size\n",
        "\n",
        "    return B\n",
        "\n",
        "def is_symmetric_positive_definite_torch(A, tol=1e-8):\n",
        "    \"\"\"Check if matrix is symmetric positive definite using PyTorch.\"\"\"\n",
        "    if not torch.allclose(A, A.T, atol=tol):\n",
        "        return False\n",
        "    try:\n",
        "        torch.linalg.cholesky(A)\n",
        "        return True\n",
        "    except torch.linalg.LinAlgError:\n",
        "        return False"
      ]
    },
    {
      "cell_type": "code",
      "source": [
        "B_test = create_preconditioner_B2_with_minus_T_torch(5)\n",
        "is_symmetric_positive_definite_torch(B_test)"
      ],
      "metadata": {
        "colab": {
          "base_uri": "https://localhost:8080/"
        },
        "id": "zQSwpwg_dLwp",
        "outputId": "664e7816-5135-49a6-9e1b-fc4a5a59278f"
      },
      "execution_count": null,
      "outputs": [
        {
          "output_type": "execute_result",
          "data": {
            "text/plain": [
              "True"
            ]
          },
          "metadata": {},
          "execution_count": 2
        }
      ]
    },
    {
      "cell_type": "markdown",
      "source": [
        "### tanh"
      ],
      "metadata": {
        "id": "54Mu1Da0igIo"
      }
    },
    {
      "cell_type": "code",
      "source": [
        "def first_difference_operator(n: int) -> torch.Tensor:\n",
        "    # Start with the identity matrix\n",
        "    D = torch.eye(n)\n",
        "\n",
        "    # Set the superdiagonal entries to -1 for rows 0 to n-2\n",
        "    indices = torch.arange(n - 1)\n",
        "    D[indices, indices + 1] = -1\n",
        "\n",
        "    # Set the periodic boundary condition: the last row subtracts the first element.\n",
        "    # D[n - 1, 0] = -1\n",
        "\n",
        "    return D\n",
        "\n",
        "# # Example usage:\n",
        "# n = 5\n",
        "# D = first_difference_operator(n)\n",
        "# print(D)\n",
        "\n",
        "\n",
        "def create_preconditioner_tanh_with_T_first_torch(N, device='cuda'):\n",
        "    \"\"\"Create block-diagonal preconditioner matrix B on GPU.\"\"\"\n",
        "    T_N = first_difference_operator(N)\n",
        "\n",
        "    # Kronecker product for parameter block\n",
        "    T_kron = torch.kron(T_N, T_N)\n",
        "\n",
        "    # Create block diagonal matrix\n",
        "    blocks = [T_N, T_N, T_kron, T_N, T_N, torch.ones(1, device=device)]\n",
        "    total_size = sum(b.shape[0] for b in blocks)\n",
        "    B = torch.zeros((total_size, total_size), device=device)\n",
        "\n",
        "    offset = 0\n",
        "    for block in blocks:\n",
        "        size = block.shape[0]\n",
        "        B[offset:offset+size, offset:offset+size] = block\n",
        "        offset += size\n",
        "\n",
        "    return B"
      ],
      "metadata": {
        "id": "wYTnfbb_ihfG"
      },
      "execution_count": null,
      "outputs": []
    },
    {
      "cell_type": "code",
      "source": [
        "B_test2 = create_preconditioner_tanh_with_T_first_torch(2)\n",
        "B_test2"
      ],
      "metadata": {
        "colab": {
          "base_uri": "https://localhost:8080/"
        },
        "id": "_c0HvV0SlXBU",
        "outputId": "db604e51-7f98-48a4-d73f-804fa808e7da"
      },
      "execution_count": null,
      "outputs": [
        {
          "output_type": "execute_result",
          "data": {
            "text/plain": [
              "tensor([[ 1., -1.,  0.,  0.,  0.,  0.,  0.,  0.,  0.,  0.,  0.,  0.,  0.],\n",
              "        [ 0.,  1.,  0.,  0.,  0.,  0.,  0.,  0.,  0.,  0.,  0.,  0.,  0.],\n",
              "        [ 0.,  0.,  1., -1.,  0.,  0.,  0.,  0.,  0.,  0.,  0.,  0.,  0.],\n",
              "        [ 0.,  0.,  0.,  1.,  0.,  0.,  0.,  0.,  0.,  0.,  0.,  0.,  0.],\n",
              "        [ 0.,  0.,  0.,  0.,  1., -1., -1.,  1.,  0.,  0.,  0.,  0.,  0.],\n",
              "        [ 0.,  0.,  0.,  0.,  0.,  1., -0., -1.,  0.,  0.,  0.,  0.,  0.],\n",
              "        [ 0.,  0.,  0.,  0.,  0., -0.,  1., -1.,  0.,  0.,  0.,  0.,  0.],\n",
              "        [ 0.,  0.,  0.,  0.,  0.,  0.,  0.,  1.,  0.,  0.,  0.,  0.,  0.],\n",
              "        [ 0.,  0.,  0.,  0.,  0.,  0.,  0.,  0.,  1., -1.,  0.,  0.,  0.],\n",
              "        [ 0.,  0.,  0.,  0.,  0.,  0.,  0.,  0.,  0.,  1.,  0.,  0.,  0.],\n",
              "        [ 0.,  0.,  0.,  0.,  0.,  0.,  0.,  0.,  0.,  0.,  1., -1.,  0.],\n",
              "        [ 0.,  0.,  0.,  0.,  0.,  0.,  0.,  0.,  0.,  0.,  0.,  1.,  0.],\n",
              "        [ 0.,  0.,  0.,  0.,  0.,  0.,  0.,  0.,  0.,  0.,  0.,  0.,  1.]],\n",
              "       device='cuda:0')"
            ]
          },
          "metadata": {},
          "execution_count": 4
        }
      ]
    },
    {
      "cell_type": "markdown",
      "source": [
        "### ReLU^3"
      ],
      "metadata": {
        "id": "hGjfX3-5EzW4"
      }
    },
    {
      "cell_type": "code",
      "source": [
        "import torch\n",
        "\n",
        "def _fill_diagonal_(M: torch.Tensor, v: torch.Tensor, offset: int) -> None:\n",
        "    \"\"\"\n",
        "    In-place helper that writes the 1-D tensor `v` to the diagonal of `M`\n",
        "    indicated by `offset` (negative = below main, positive = above).\n",
        "    \"\"\"\n",
        "    n = M.size(0)\n",
        "    if offset >= 0:                        # super-diagonal\n",
        "        rows = torch.arange(n - offset, device=M.device)\n",
        "        cols = rows + offset\n",
        "    else:                                  # sub-diagonal\n",
        "        offset = -offset\n",
        "        cols = torch.arange(n - offset, device=M.device)\n",
        "        rows = cols + offset\n",
        "    M[rows, cols] = v\n",
        "\n",
        "\n",
        "def create_banded_matrix_torch(n: int,\n",
        "                               *,\n",
        "                               device=None,\n",
        "                               dtype=torch.float32) -> torch.Tensor:\n",
        "    \"\"\"\n",
        "    Construct the n×n banded matrix\n",
        "\n",
        "        [ …  1 −4  6 −4  1 … ]\n",
        "\n",
        "    with offsets −2, −1, 0, +1, +2 and values 1, −4, 6, −4, 1 respectively.\n",
        "    Returns a *dense* tensor; call `.to_sparse()` afterwards if you want CSR/COO.\n",
        "    \"\"\"\n",
        "    A = torch.zeros((n, n), device=device, dtype=dtype)\n",
        "\n",
        "    specs = [\n",
        "        ( torch.full((n - 2,),  1., device=device, dtype=dtype), -2 ),\n",
        "        ( torch.full((n - 1,), -4., device=device, dtype=dtype), -1 ),\n",
        "        ( torch.full((n,     ),  6., device=device, dtype=dtype),  0 ),\n",
        "        ( torch.full((n - 1,), -4., device=device, dtype=dtype),  1 ),\n",
        "        ( torch.full((n - 2,),  1., device=device, dtype=dtype),  2 ),\n",
        "    ]\n",
        "\n",
        "    for diag_vals, offset in specs:\n",
        "        _fill_diagonal_(A, diag_vals, offset)\n",
        "\n",
        "    return A\n",
        "\n",
        "\n",
        "def create_preconditioner_for_cube_torch(N: int,\n",
        "                                         *,\n",
        "                                         device=None,\n",
        "                                         dtype=torch.float32) -> torch.Tensor:\n",
        "    \"\"\"\n",
        "    Assemble the block-diagonal preconditioner\n",
        "\n",
        "        B = diag( T, T, T⊗T, T, T, 1)\n",
        "\n",
        "    where each T is the banded matrix above.\n",
        "    \"\"\"\n",
        "    I_N = torch.eye(N, device=device, dtype=dtype)\n",
        "    T_N   = create_banded_matrix_torch(N, device=device, dtype=dtype)\n",
        "    T_kron = torch.kron(T_N, T_N)                      # dense Kronecker product\n",
        "    B = torch.block_diag(I_N, I_N, T_kron, I_N, I_N, torch.ones(1, device=device))   # block-diagonal join\n",
        "    return B"
      ],
      "metadata": {
        "id": "TRQpyioGEzzr"
      },
      "execution_count": null,
      "outputs": []
    },
    {
      "cell_type": "code",
      "source": [
        "# ────────────────────────────────────────────────────────────────────────────────\n",
        "# Example\n",
        "# ────────────────────────────────────────────────────────────────────────────────\n",
        "if __name__ == \"__main__\":\n",
        "    n = 10\n",
        "    A = create_banded_matrix_torch(n)\n",
        "    print(\"Tₙ:\")\n",
        "    print(A)\n",
        "\n",
        "    B = create_preconditioner_for_cube_torch(n)\n",
        "    print(\"\\nB (shape = {}):\".format(B.shape))\n",
        "    # ↓ comment out this print for large N – it grows quickly!\n",
        "    print(B)"
      ],
      "metadata": {
        "colab": {
          "base_uri": "https://localhost:8080/"
        },
        "id": "YPgu2xIDFT3b",
        "outputId": "96feea53-7291-4d0c-b783-03841b86fc6e"
      },
      "execution_count": null,
      "outputs": [
        {
          "output_type": "stream",
          "name": "stdout",
          "text": [
            "Tₙ:\n",
            "tensor([[ 6., -4.,  1.,  0.,  0.,  0.,  0.,  0.,  0.,  0.],\n",
            "        [-4.,  6., -4.,  1.,  0.,  0.,  0.,  0.,  0.,  0.],\n",
            "        [ 1., -4.,  6., -4.,  1.,  0.,  0.,  0.,  0.,  0.],\n",
            "        [ 0.,  1., -4.,  6., -4.,  1.,  0.,  0.,  0.,  0.],\n",
            "        [ 0.,  0.,  1., -4.,  6., -4.,  1.,  0.,  0.,  0.],\n",
            "        [ 0.,  0.,  0.,  1., -4.,  6., -4.,  1.,  0.,  0.],\n",
            "        [ 0.,  0.,  0.,  0.,  1., -4.,  6., -4.,  1.,  0.],\n",
            "        [ 0.,  0.,  0.,  0.,  0.,  1., -4.,  6., -4.,  1.],\n",
            "        [ 0.,  0.,  0.,  0.,  0.,  0.,  1., -4.,  6., -4.],\n",
            "        [ 0.,  0.,  0.,  0.,  0.,  0.,  0.,  1., -4.,  6.]])\n",
            "\n",
            "B (shape = torch.Size([141, 141])):\n",
            "tensor([[ 6., -4.,  1.,  ...,  0.,  0.,  0.],\n",
            "        [-4.,  6., -4.,  ...,  0.,  0.,  0.],\n",
            "        [ 1., -4.,  6.,  ...,  0.,  0.,  0.],\n",
            "        ...,\n",
            "        [ 0.,  0.,  0.,  ...,  6., -4.,  0.],\n",
            "        [ 0.,  0.,  0.,  ..., -4.,  6.,  0.],\n",
            "        [ 0.,  0.,  0.,  ...,  0.,  0.,  1.]])\n"
          ]
        }
      ]
    },
    {
      "cell_type": "markdown",
      "source": [
        "### Test SPD"
      ],
      "metadata": {
        "id": "oY2Ae9w8I8Iz"
      }
    },
    {
      "cell_type": "code",
      "source": [
        "def is_symmetric_positive_definite(A, tol=1e-8):\n",
        "    \"\"\"Check if a matrix is positive definite.\"\"\"\n",
        "    # if np.allclose(A, A.T, atol=tol):\n",
        "    if ((A+A.T)/2).all() == A.all():\n",
        "        try:\n",
        "            # Attempt Cholesky decomposition\n",
        "            np.linalg.cholesky(A)\n",
        "            return True\n",
        "        except np.linalg.LinAlgError:\n",
        "            return False\n",
        "    else:\n",
        "        return False"
      ],
      "metadata": {
        "id": "6aO6YhQFI8sE"
      },
      "execution_count": null,
      "outputs": []
    },
    {
      "cell_type": "code",
      "source": [
        "is_symmetric_positive_definite(A)"
      ],
      "metadata": {
        "colab": {
          "base_uri": "https://localhost:8080/"
        },
        "id": "dWy1_oJEJLdN",
        "outputId": "9a5262b4-b0f4-4041-c09b-6a76e894c5c4"
      },
      "execution_count": null,
      "outputs": [
        {
          "output_type": "execute_result",
          "data": {
            "text/plain": [
              "True"
            ]
          },
          "metadata": {},
          "execution_count": 5
        }
      ]
    },
    {
      "cell_type": "code",
      "source": [
        "B_inv = torch.linalg.inv(normalize_matrix_max_eigenvalue(B).float())\n",
        "# except:\n",
        "#     T += 1e-6 * torch.eye(T.size(0), device=self.device)\n",
        "#     T_inv = torch.linalg.inv(T.float())\n",
        "\n",
        "is_symmetric_positive_definite(B_inv)"
      ],
      "metadata": {
        "colab": {
          "base_uri": "https://localhost:8080/"
        },
        "id": "bExbZzj0JaKz",
        "outputId": "3fea6c59-52fe-4404-dfc3-e987a8728aa2"
      },
      "execution_count": null,
      "outputs": [
        {
          "output_type": "execute_result",
          "data": {
            "text/plain": [
              "True"
            ]
          },
          "metadata": {},
          "execution_count": 34
        }
      ]
    },
    {
      "cell_type": "code",
      "source": [],
      "metadata": {
        "id": "b7KCLaLlKLPp"
      },
      "execution_count": null,
      "outputs": []
    },
    {
      "cell_type": "markdown",
      "source": [
        "## Normalize"
      ],
      "metadata": {
        "id": "nRpJdJxvXhKI"
      }
    },
    {
      "cell_type": "code",
      "source": [
        "def normalize_matrix_max_eigenvalue(B):\n",
        "    \"\"\"\n",
        "    Normalizes a matrix B such that its maximum eigenvalue is 1.\n",
        "\n",
        "    Parameters:\n",
        "    B (torch.Tensor): The input matrix (must be square).\n",
        "\n",
        "    Returns:\n",
        "    torch.Tensor: The normalized matrix with a maximum eigenvalue of 1.\n",
        "    \"\"\"\n",
        "    # Compute the eigenvalues of B\n",
        "    eigenvalues = torch.linalg.eig(B).eigenvalues\n",
        "\n",
        "    # Find the maximum eigenvalue based on real and then imaginary parts\n",
        "    real_parts = eigenvalues.real\n",
        "    imag_parts = eigenvalues.imag\n",
        "\n",
        "    max_real = torch.max(real_parts)\n",
        "    mask = (real_parts == max_real)\n",
        "    max_imag = torch.max(imag_parts[mask])\n",
        "\n",
        "    # Find indices of eigenvalues with max_real and max_imag\n",
        "    matching_indices = torch.where((real_parts == max_real) & (imag_parts == max_imag))[0]\n",
        "    # Select the first occurrence\n",
        "    max_eigenvalue = eigenvalues[matching_indices[0]]\n",
        "\n",
        "    # Normalize the matrix by dividing by the real part of the maximum eigenvalue\n",
        "    B_normalized = B / max_eigenvalue.real\n",
        "\n",
        "    #  print(max_eigenvalue)\n",
        "    return B_normalized"
      ],
      "metadata": {
        "id": "XbrHLQQkXhlR"
      },
      "execution_count": null,
      "outputs": []
    },
    {
      "cell_type": "markdown",
      "source": [
        "## Target Functions"
      ],
      "metadata": {
        "id": "eFA7tmlpbe4u"
      }
    },
    {
      "cell_type": "code",
      "source": [
        "import numpy as np\n",
        "\n",
        "def u1(x):\n",
        "    return x * (1 - x)\n",
        "\n",
        "def u2(x):\n",
        "    return np.sin(np.pi * x)\n",
        "\n",
        "def u3(x):\n",
        "    return x ** (2/3)\n",
        "\n",
        "def u4(x):\n",
        "    return np.tanh(100 * (x - 0.25))\n",
        "\n",
        "def u5(x):\n",
        "    return np.exp(-500 * (x - 0.75)**2) * np.sin(20 * np.pi * x)\n",
        "\n",
        "def u6(x):\n",
        "    return np.sin(4 * np.pi * 1/(x+0.5))\n",
        "\n",
        "def u7(x):\n",
        "    return np.sin(4 * np.pi * x)"
      ],
      "metadata": {
        "id": "1_pd-VoIbfUf"
      },
      "execution_count": null,
      "outputs": []
    },
    {
      "cell_type": "code",
      "source": [],
      "metadata": {
        "id": "KZeuoGBRyNWM"
      },
      "execution_count": null,
      "outputs": []
    },
    {
      "cell_type": "markdown",
      "source": [
        "## Model"
      ],
      "metadata": {
        "id": "KUkTLVahH75d"
      }
    },
    {
      "cell_type": "code",
      "source": [
        "import torch\n",
        "import torch.nn.functional as F\n",
        "import numpy as np\n",
        "import matplotlib.pyplot as plt\n",
        "\n",
        "# --------------- Initialization Functions --------------- #\n",
        "\n",
        "def init_params_ones(input_dim, hidden_dim1, hidden_dim2, output_dim, left=0.0, right=1.0, device='cuda'):\n",
        "    \"\"\"Initialize parameters as flat tensor on specified device.\"\"\"\n",
        "    W1 = torch.ones((hidden_dim1, input_dim), device=device)\n",
        "    b1 = -torch.linspace(left, right, hidden_dim1, device=device)\n",
        "    W2 = torch.eye(hidden_dim2, hidden_dim1, device=device)\n",
        "    b2 = -torch.linspace(left, right, hidden_dim2, device=device)\n",
        "    W3 = torch.ones((output_dim, hidden_dim2), device=device)\n",
        "    # In init_params_ones, change W3 initialization:\n",
        "    #　W3 = torch.randn((output_dim, hidden_dim2), device=device)  # Normal distribution\n",
        "    b3 = -torch.linspace(left, right, output_dim, device=device)\n",
        "\n",
        "    flat_params = torch.cat([p.flatten() for p in (W1, b1, W2, b2, W3, b3)])\n",
        "    flat_params.requires_grad_(True)\n",
        "    return flat_params\n",
        "\n",
        "\n",
        "def init_kaiming(input_dim, hidden_dim1, hidden_dim2, output_dim, left=0.0, right=1.0, device='cuda'):\n",
        "    \"\"\"Initialize parameters using Kaiming He initialization.\"\"\"\n",
        "    W1 = torch.randn((hidden_dim1, input_dim), device=device) * np.sqrt(2 / input_dim)\n",
        "    b1 = torch.linspace(left, right, hidden_dim1, device=device)\n",
        "    W2 = torch.randn((hidden_dim2, hidden_dim1), device=device) * np.sqrt(2 / hidden_dim1)\n",
        "    b2 = torch.linspace(left, right, hidden_dim2, device=device)\n",
        "    W3 = torch.randn((output_dim, hidden_dim2), device=device) * np.sqrt(2 / hidden_dim2)\n",
        "    b3 = torch.linspace(left, right, output_dim, device=device)\n",
        "\n",
        "    flat_params = torch.cat([p.flatten() for p in (W1, b1, W2, b2, W3, b3)])\n",
        "    flat_params.requires_grad_(True)\n",
        "    return flat_params\n",
        "\n",
        "\n",
        "\n",
        "# --------------- Plot Functions --------------- #\n",
        "\n",
        "def plot_training_loss(loss_history):\n",
        "    \"\"\"Plot training loss curve.\"\"\"\n",
        "    plt.figure(figsize=(5, 3))\n",
        "    plt.plot(loss_history, label='Training Loss')\n",
        "    plt.xlabel('Epoch')\n",
        "    plt.ylabel('Log Loss (MSE)')\n",
        "    plt.title('Training Loss History')\n",
        "    plt.legend()\n",
        "    plt.grid(True)\n",
        "    plt.show()\n",
        "\n",
        "def plot_approximation(model, true_function, device='cuda'):\n",
        "    \"\"\"Plot model approximation vs true function.\"\"\"\n",
        "    # Generate test points\n",
        "    X_test = torch.linspace(0, 1, 1000, device=device).unsqueeze(1)\n",
        "\n",
        "    # Create predictions\n",
        "    with torch.no_grad():\n",
        "        y_pred = model.forward(X_test, model.theta)\n",
        "\n",
        "    # Move to CPU for plotting\n",
        "    X_test_cpu = X_test.cpu().numpy()\n",
        "    y_pred_cpu = y_pred.cpu().numpy()\n",
        "\n",
        "    # True function values\n",
        "    y_true = true_function(X_test_cpu)\n",
        "\n",
        "    # Create plot\n",
        "    plt.figure(figsize=(5, 3))\n",
        "    plt.plot(X_test_cpu, y_true, label='True Function', linestyle='--')\n",
        "    plt.plot(X_test_cpu, y_pred_cpu, label='Model Approximation')\n",
        "    plt.xlabel('Input')\n",
        "    plt.ylabel('Output')\n",
        "    plt.title('Function Approximation')\n",
        "    plt.legend()\n",
        "    plt.grid(True)\n",
        "    plt.show()\n",
        "\n",
        "\n",
        "# --------------- Model Class --------------- #\n",
        "\n",
        "# Modified PreconditionedNetwork class with visualization support\n",
        "class PreconditionedNetwork:\n",
        "    def __init__(self, input_dim, hidden_dim1, hidden_dim2, output_dim,\n",
        "                 left=0, right=1, activation1=torch.tanh, activation2=torch.tanh,\n",
        "                 init_method='ones', device='cuda'):\n",
        "        self.input_dim = input_dim\n",
        "        self.hidden_dim1 = hidden_dim1\n",
        "        self.hidden_dim2 = hidden_dim2\n",
        "        self.output_dim = output_dim\n",
        "        self.activation1 = activation1\n",
        "        self.activation2 = activation2\n",
        "        self.device = device\n",
        "\n",
        "        if init_method == 'ones':\n",
        "            self.theta = init_params_ones(\n",
        "                input_dim, hidden_dim1, hidden_dim2, output_dim, left, right, device\n",
        "            )\n",
        "        elif init_method == 'kaiming':\n",
        "            self.theta = init_kaiming(\n",
        "                input_dim, hidden_dim1, hidden_dim2, output_dim, left, right, device\n",
        "            )\n",
        "        else:\n",
        "            raise ValueError(\"Invalid initialization method.\")\n",
        "\n",
        "    def unflatten_params(self, theta):\n",
        "        sizes = [\n",
        "            self.hidden_dim1 * self.input_dim,  # W1\n",
        "            self.hidden_dim1,                  # b1\n",
        "            self.hidden_dim1 * self.hidden_dim2, # W2\n",
        "            self.hidden_dim2,                  # b2\n",
        "            self.hidden_dim2 * self.output_dim,  # W3\n",
        "            self.output_dim                    # b3\n",
        "        ]\n",
        "        params = []\n",
        "        ptr = 0\n",
        "        for size in sizes:\n",
        "            params.append(theta[ptr:ptr+size])\n",
        "            ptr += size\n",
        "\n",
        "        W1 = params[0].view(self.hidden_dim1, self.input_dim)\n",
        "        b1 = params[1]\n",
        "        W2 = params[2].view(self.hidden_dim2, self.hidden_dim1)\n",
        "        b2 = params[3]\n",
        "        W3 = params[4].view(self.output_dim, self.hidden_dim2)\n",
        "        b3 = params[5]\n",
        "\n",
        "        return W1, b1, W2, b2, W3, b3\n",
        "\n",
        "    def forward(self, X, theta):\n",
        "        W1, b1, W2, b2, W3, b3 = self.unflatten_params(theta)\n",
        "\n",
        "        Z1 = torch.mm(X, W1.t()) + b1\n",
        "        A1 = self.activation1(Z1)\n",
        "\n",
        "        Z2 = torch.mm(A1, W2.t()) + b2\n",
        "        A2 = self.activation2(Z2)\n",
        "\n",
        "        Z3 = torch.mm(A2, W3.t()) + b3                    # Shape: (batch_size, output_dim)\n",
        "        # print('X.shape', str(X.shape))\n",
        "        # print('W1.shape', str(W1.shape))\n",
        "        # print('W1 dot X' + str(torch.mm(X, W1.t()).shape))\n",
        "        # print('b1.shape', str(b1.shape))\n",
        "        # print('Z1.shape', str(Z1.shape))\n",
        "        # print('A1.shape', str(A1.shape))\n",
        "        # print('W2.shape', str(W2.shape))\n",
        "        # print('dot.shape', str(torch.mm(A1, W2.t()).shape))\n",
        "        # print('b2.shape', str(b2.shape))\n",
        "        # print('Z2.shape', str(Z2.shape))\n",
        "        # print('A2.shape', str(A2.shape))\n",
        "        # print('W3.shape', str(W3.shape))\n",
        "        # print('Z3.shape', str(Z3.shape))\n",
        "\n",
        "        return Z3  # Keep 2D shape even when output_dim=1\n",
        "\n",
        "    def compute_loss(self, X, y, theta):\n",
        "        y_pred = self.forward(X, theta)\n",
        "\n",
        "        # Ensure matching dimensions if output_dim=1\n",
        "        if self.output_dim == 1:\n",
        "            y_pred = y_pred #.squeeze(1)  # (batch_size,1) -> (batch_size,)\n",
        "\n",
        "        return F.mse_loss(y_pred, y)\n",
        "\n",
        "    def train(self, X, y, T, lr=0.01, max_iter=1000, tol=1e-6):\n",
        "        theta = self.theta\n",
        "        T = T.to(self.device) if isinstance(T, torch.Tensor) else torch.tensor(T, device=self.device)\n",
        "\n",
        "        # try:\n",
        "        #     T_inv = torch.linalg.inv(T.float())\n",
        "        # except:\n",
        "        #     T += 1e-6 * torch.eye(T.size(0), device=self.device)\n",
        "        #     T_inv = torch.linalg.inv(T.float())\n",
        "\n",
        "        # T_inv_normalized = normalize_matrix_max_eigenvalue(T_inv)\n",
        "\n",
        "        loss_history = []\n",
        "        prev_theta = theta.clone().detach()\n",
        "\n",
        "        for _ in range(max_iter):\n",
        "            if theta.grad is not None:\n",
        "                theta.grad.zero_()\n",
        "\n",
        "            loss = self.compute_loss(X, y, theta)\n",
        "            loss_history.append(loss.item())\n",
        "\n",
        "            loss.backward()\n",
        "            g = theta.grad\n",
        "\n",
        "            with torch.no_grad():\n",
        "                # update = T_inv_normalized @ g\n",
        "                update = T @ g\n",
        "                theta -= lr * update\n",
        "\n",
        "            if torch.norm(theta - prev_theta) < tol:\n",
        "                self.theta = theta.detach().requires_grad_(True)\n",
        "                break\n",
        "            prev_theta = theta.clone().detach()\n",
        "\n",
        "        self.theta = theta.detach().requires_grad_(True)\n",
        "        return loss_history\n",
        "\n"
      ],
      "metadata": {
        "id": "ENNWbYtnH6va"
      },
      "execution_count": null,
      "outputs": []
    },
    {
      "cell_type": "markdown",
      "source": [
        "## Check Broadcasting and dimensions"
      ],
      "metadata": {
        "id": "g6MVnYhB4kYb"
      }
    },
    {
      "cell_type": "code",
      "source": [
        "# ------------------ Example Usage ------------------ #\n",
        "\n",
        "# Example usage with visualization\n",
        "if __name__ == \"__main__\":\n",
        "    # Configuration\n",
        "    width = 10\n",
        "    m = 200\n",
        "    input_dim = 1\n",
        "    output_dim = 1\n",
        "    device = 'cuda' if torch.cuda.is_available() else 'cpu'\n",
        "\n",
        "    # Define true function (example: sine wave)\n",
        "    def target(x):\n",
        "        # print(np.sin(2 * np.pi * x).shape)\n",
        "        return np.sin(2 * np.pi * x)\n",
        "\n",
        "    # Generate data\n",
        "    X_np = np.random.uniform(0, 1, (m, input_dim))\n",
        "    y_np = u1(X_np)\n",
        "\n",
        "    # Convert to tensors\n",
        "    X = torch.tensor(X_np, dtype=torch.float32, device=device)\n",
        "    y = torch.tensor(y_np, dtype=torch.float32, device=device)\n",
        "\n",
        "    # Initialize network and preconditioner\n",
        "    net_test = PreconditionedNetwork(\n",
        "        input_dim=input_dim,\n",
        "        hidden_dim1=width,\n",
        "        hidden_dim2=width,\n",
        "        output_dim=output_dim,\n",
        "        activation1=torch.tanh,\n",
        "        activation2=torch.tanh,\n",
        "        device=device\n",
        "    )\n",
        "\n",
        "    # No need for a preconditioner\n",
        "    total_params = width**2 + 4 * width\n",
        "    I = torch.eye(total_params, device=device)\n",
        "\n",
        "    # Train network\n",
        "    theta = init_params_ones(\n",
        "                input_dim = 1, hidden_dim1 = 10, hidden_dim2 = 10, output_dim = 1, left = 0, right = 1, device = 'cuda'\n",
        "            )\n",
        "    forward_output = net_test.forward(X, theta=theta)\n"
      ],
      "metadata": {
        "id": "ZrDCx78g4kuy",
        "colab": {
          "base_uri": "https://localhost:8080/"
        },
        "outputId": "37a5cdd5-5eb4-41d5-cdf1-884d0a154829"
      },
      "execution_count": null,
      "outputs": [
        {
          "output_type": "stream",
          "name": "stdout",
          "text": [
            "X.shape torch.Size([200, 1])\n",
            "W1.shape torch.Size([10, 1])\n",
            "W1 dot Xtorch.Size([200, 10])\n",
            "b1.shape torch.Size([10])\n",
            "Z1.shape torch.Size([200, 10])\n",
            "A1.shape torch.Size([200, 10])\n",
            "W2.shape torch.Size([10, 10])\n",
            "dot.shape torch.Size([200, 10])\n",
            "b2.shape torch.Size([10])\n",
            "Z2.shape torch.Size([200, 10])\n",
            "A2.shape torch.Size([200, 10])\n",
            "W3.shape torch.Size([1, 10])\n",
            "Z3.shape torch.Size([200, 1])\n"
          ]
        }
      ]
    },
    {
      "cell_type": "markdown",
      "source": [
        "## Experiments"
      ],
      "metadata": {
        "id": "-Kn6vFnEIO2M"
      }
    },
    {
      "cell_type": "code",
      "source": [
        "def relu_cube(x):\n",
        "    return torch.max(x, torch.zeros_like(x)) ** 3"
      ],
      "metadata": {
        "id": "53I7aFHaRQ37"
      },
      "execution_count": null,
      "outputs": []
    },
    {
      "cell_type": "code",
      "source": [
        "# ------------------ Example Usage ------------------ #\n",
        "import time, math\n",
        "\n",
        "# Example usage with visualization\n",
        "if __name__ == \"__main__\":\n",
        "    # Configuration\n",
        "    width = 10\n",
        "    m = 200\n",
        "    input_dim = 1\n",
        "    output_dim = 1\n",
        "    device = 'cuda' if torch.cuda.is_available() else 'cpu'\n",
        "\n",
        "    # Define true function (example: sine wave)\n",
        "    def target(x):\n",
        "        # print(np.sin(2 * np.pi * x).shape)\n",
        "        return np.sin(2 * np.pi * x)\n",
        "\n",
        "\n",
        "\n",
        "    # Generate data\n",
        "    X_np = np.random.uniform(0, 1, (m, input_dim))\n",
        "    y_np = u4(X_np)\n",
        "\n",
        "    # Convert to tensors\n",
        "    X = torch.tensor(X_np, dtype=torch.float32, device=device)\n",
        "    y = torch.tensor(y_np, dtype=torch.float32, device=device)\n",
        "\n",
        "    # Initialize network and preconditioner\n",
        "    net_pre = PreconditionedNetwork(\n",
        "        input_dim=input_dim,\n",
        "        hidden_dim1=width,\n",
        "        hidden_dim2=width,\n",
        "        output_dim=output_dim,\n",
        "        activation1=relu_cube,\n",
        "        activation2=relu_cube,\n",
        "        device=device\n",
        "    )\n",
        "    net_non = PreconditionedNetwork(\n",
        "        input_dim=input_dim,\n",
        "        hidden_dim1=width,\n",
        "        hidden_dim2=width,\n",
        "        output_dim=output_dim,\n",
        "        activation1=relu_cube,\n",
        "        activation2=relu_cube,\n",
        "        device=device\n",
        "    )\n",
        "\n",
        "    # Create preconditioner\n",
        "    # B2 = create_preconditioner_B2_with_minus_T_torch(width, device=device)\n",
        "    # B2_normalized = normalize_matrix_max_eigenvalue(B2)\n",
        "\n",
        "    # B_tanh = create_preconditioner_tanh_with_T_first_torch(width)\n",
        "    # B_tanh_normalized = normalize_matrix_max_eigenvalue(B_tanh)\n",
        "\n",
        "    B_cube = create_preconditioner_for_cube_torch(width, device=device)\n",
        "    B_cube_normalized = normalize_matrix_max_eigenvalue(B_cube)\n",
        "\n",
        "    total_params = width**2 + 4 * width + 1\n",
        "    I = torch.eye(total_params, device=device)\n",
        "\n",
        "\n",
        "\n",
        "\n",
        "    start = time.perf_counter()          # high-resolution wall clock\n",
        "\n",
        "    # --- your code here ---\n",
        "    loss_history_pre = net_pre.train(X, y, B_cube, lr=1e-2, max_iter=20000)\n",
        "\n",
        "    end = time.perf_counter()\n",
        "    elapsed = end - start\n",
        "    print(f\"Cell ran in {elapsed:.3f} s\")\n",
        "\n",
        "\n",
        "    start = time.perf_counter()          # high-resolution wall clock\n",
        "\n",
        "    # --- your code here ---\n",
        "    loss_history_non = net_non.train(X, y, I, lr=1e-1, max_iter=20000)\n",
        "\n",
        "    end = time.perf_counter()\n",
        "    elapsed = end - start\n",
        "    print(f\"Cell ran in {elapsed:.3f} s\")"
      ],
      "metadata": {
        "id": "XwSbIbySH6qR",
        "colab": {
          "base_uri": "https://localhost:8080/"
        },
        "outputId": "995f9b92-9ff3-4b0f-e7da-12305fe7032d"
      },
      "execution_count": null,
      "outputs": [
        {
          "output_type": "stream",
          "name": "stdout",
          "text": [
            "Cell ran in 33.318 s\n",
            "Cell ran in 37.141 s\n"
          ]
        }
      ]
    },
    {
      "cell_type": "code",
      "source": [
        "\n",
        "    # Visualize loss results\n",
        "    plt.figure(figsize=(5, 3))\n",
        "    plt.plot(np.log(loss_history_non), label='Training Loss Non')\n",
        "    plt.plot(np.log(loss_history_pre), label='Training Loss Pre')\n",
        "    plt.xlabel('Epoch')\n",
        "    plt.ylabel('Log Loss (MSE)')\n",
        "    plt.title('Training Loss History')\n",
        "    plt.legend()\n",
        "    plt.grid(True)\n",
        "    plt.show()\n",
        "\n",
        "    # Visualize results\n",
        "    # Generate test points\n",
        "    X_test = torch.linspace(0, 1, 500, device=device).unsqueeze(1)\n",
        "\n",
        "    # Create predictions\n",
        "    with torch.no_grad():\n",
        "        y_pre = net_pre.forward(X_test, net_pre.theta)\n",
        "        y_non = net_non.forward(X_test, net_non.theta)\n",
        "\n",
        "    # Move to CPU for plotting\n",
        "    X_test_cpu = X_test.cpu().numpy()\n",
        "    y_pre_cpu = y_pre.cpu().numpy()\n",
        "    y_non_cpu = y_non.cpu().numpy()\n",
        "\n",
        "    # True function values\n",
        "    y_true = u4(X_test_cpu)\n",
        "\n",
        "    # Create plot\n",
        "    plt.figure(figsize=(5, 3))\n",
        "    plt.plot(X_test_cpu, y_true, label='True Function', linestyle='--')\n",
        "    plt.plot(X_test_cpu, y_pre_cpu, label='Pre-Model Approximation')\n",
        "    plt.plot(X_test_cpu, y_non_cpu, label='Non-Model Approximation')\n",
        "    plt.xlabel('Input')\n",
        "    plt.ylabel('Output')\n",
        "    plt.title('Function Approximation')\n",
        "    plt.legend()\n",
        "    plt.grid(True)\n",
        "    plt.show()"
      ],
      "metadata": {
        "id": "tWqkiM_5H6mX",
        "colab": {
          "base_uri": "https://localhost:8080/",
          "height": 649
        },
        "outputId": "12dc8dc8-ada1-4b37-d708-99601d98600a"
      },
      "execution_count": null,
      "outputs": [
        {
          "output_type": "display_data",
          "data": {
            "text/plain": [
              "<Figure size 500x300 with 1 Axes>"
            ],
            "image/png": "[encoded data removed]"
          },
          "metadata": {}
        },
        {
          "output_type": "display_data",
          "data": {
            "text/plain": [
              "<Figure size 500x300 with 1 Axes>"
            ],
            "image/png": "[encoded data removed]"
          },
          "metadata": {}
        }
      ]
    },
    {
      "cell_type": "code",
      "source": [
        "loss_history_non[1]"
      ],
      "metadata": {
        "id": "EVEccDP6H6h3",
        "colab": {
          "base_uri": "https://localhost:8080/"
        },
        "outputId": "2eccc50c-43c8-4399-97cc-0585bdaaf5b6"
      },
      "execution_count": null,
      "outputs": [
        {
          "output_type": "execute_result",
          "data": {
            "text/plain": [
              "278.0775451660156"
            ]
          },
          "metadata": {},
          "execution_count": 200
        }
      ]
    },
    {
      "cell_type": "code",
      "source": [
        "loss_history_pre[1]"
      ],
      "metadata": {
        "id": "6RxdaO_5H6Ph",
        "colab": {
          "base_uri": "https://localhost:8080/"
        },
        "outputId": "826fede8-399c-4771-98d5-33594b286192"
      },
      "execution_count": null,
      "outputs": [
        {
          "output_type": "execute_result",
          "data": {
            "text/plain": [
              "10.192155838012695"
            ]
          },
          "metadata": {},
          "execution_count": 201
        }
      ]
    },
    {
      "cell_type": "markdown",
      "source": [
        "## The LOOPs"
      ],
      "metadata": {
        "id": "HzThRiHARiiG"
      }
    },
    {
      "cell_type": "code",
      "source": [
        "from tqdm.auto import tqdm\n",
        "\n",
        "if __name__ == \"__main__\":\n",
        "    # Configuration\n",
        "    target = u6\n",
        "    lr_grid = [1e-3, 5e-3, 1e-2, 5e-2, 1e-1]\n",
        "    width = 50\n",
        "    m = 400\n",
        "    max = 100000\n",
        "    device = 'cuda' if torch.cuda.is_available() else 'cpu'\n",
        "    base_seed = 42\n",
        "\n",
        "    init_method = 'kaiming'\n",
        "    # Preconditioner\n",
        "    B1 = create_preconditioner_for_cube_torch(width, device=device)\n",
        "    # B2 = create_preconditioner_B2_with_T_torch(width, device=device)\n",
        "    # B3 = create_preconditioner_B3_with_T_torch(width, device=device)\n",
        "    # B4 = create_preconditioner_B4_with_T_torch(width, device=device)\n",
        "    # B5 = create_preconditioner_B5_with_T_torch(width, device=device)\n",
        "    total_params = width**2 + 4 * width + 1\n",
        "    Vanilla = torch.eye(total_params, device=device)\n",
        "\n",
        "    preconditioner = B1  ##################\n",
        "\n",
        "    input_dim = 1\n",
        "    output_dim = 1\n",
        "\n",
        "# ------------------ DATA (fixed across LRs) ------------------ #\n",
        "    rng = np.random.default_rng(seed=42)\n",
        "    # Generate data\n",
        "    X_np = np.random.uniform(0, 1, (m, input_dim))\n",
        "    y_np = target(X_np)\n",
        "    # Convert to tensors\n",
        "    X = torch.tensor(X_np, dtype=torch.float32, device=device)\n",
        "    y = torch.tensor(y_np, dtype=torch.float32, device=device)\n",
        "\n",
        "\n",
        "    X_test = torch.linspace(0, 1, 500, device=device).unsqueeze(1)\n",
        "    y_true = target(X_test.cpu().numpy())\n",
        "# ------------------------------------------------------------- #\n",
        "    def make_net():\n",
        "        net_pre = PreconditionedNetwork(\n",
        "            input_dim=input_dim,\n",
        "            hidden_dim1=width,\n",
        "            hidden_dim2=width,\n",
        "            output_dim=output_dim,\n",
        "            activation1=torch.relu,\n",
        "            activation2=torch.relu,\n",
        "            init_method=init_method,\n",
        "            device=device\n",
        "        )\n",
        "        return net_pre\n",
        "\n",
        "    all_loss_histories = []\n",
        "    all_final_pred = []\n",
        "\n",
        "    # Sweep ---------------------------------------------------- #\n",
        "    for i, lr in enumerate(tqdm(lr_grid, desc = \"Pre/no-pre only\")):\n",
        "        seed = base_seed\n",
        "        net_i = make_net()\n",
        "\n",
        "        loss_history_i = net_i.train(X, y, preconditioner, lr=lr, max_iter=max, tol=1e-6)\n",
        "        all_loss_histories.append((float(lr), np.asarray(loss_history_i, dtype=float)))\n",
        "\n",
        "        # Plot Loss Curve\n",
        "        plt.figure(figsize=(5, 3))\n",
        "        plt.plot(np.log(loss_history_i), label=f'Pre (lr={lr:.3g})')\n",
        "        plt.xlabel('Epoch')\n",
        "        plt.ylabel('Log Loss (MSE)')\n",
        "        plt.title('Training Loss History')\n",
        "        plt.legend()\n",
        "        plt.grid(True)\n",
        "\n",
        "        # Plot approximation\n",
        "        with torch.no_grad():\n",
        "            y_pred = net_i.forward(X_test, net_i.theta).cpu().numpy()\n",
        "        all_final_pred.append((float(lr), y_pred))\n",
        "\n",
        "        plt.figure(figsize=(5, 3))\n",
        "        X_test_cpu = X_test.cpu().numpy()\n",
        "        plt.plot(X_test_cpu, y_true, label='True Function', linestyle='--')\n",
        "        plt.plot(X_test_cpu, y_pred, label=f'Model Approximation (lr={lr:.3g})')\n",
        "        plt.xlabel('Input')\n",
        "        plt.ylabel('Output')\n",
        "        plt.title('Function Approximation')\n",
        "        plt.legend(ncol=2)\n",
        "        plt.grid(True)\n",
        "        plt.show()\n",
        "\n",
        "# -------- overall ---------------------------------------------------- #\n",
        "figA = plt.figure(figsize=(5, 3))\n",
        "for lr, hist in all_loss_histories:\n",
        "    plt.plot(np.log(hist), label=f'Pre (lr={lr:.3g})')\n",
        "plt.xlabel('Epoch')\n",
        "plt.ylabel('Log Loss (MSE)')\n",
        "plt.title('Training Loss History Cross LRs')\n",
        "plt.legend()\n",
        "plt.grid(True)\n",
        "plt.show()\n",
        "\n",
        "\n",
        "figB = plt.figure(figsize=(5, 3))\n",
        "X_test_cpu = X_test.cpu().numpy()\n",
        "plt.plot(X_test_cpu, y_true, label='True Function', linestyle='--')\n",
        "for lr, pred in all_final_pred:\n",
        "    plt.plot(X_test_cpu, pred, label=f'(lr={lr:.3g})')\n",
        "plt.xlabel('Input')\n",
        "plt.ylabel('Output')\n",
        "plt.title('Function Approximation Cross LRs')\n",
        "plt.legend(ncol=2)\n",
        "plt.grid(True)\n",
        "plt.show()\n",
        "\n",
        "\n",
        "\n",
        "\n",
        "\n",
        "\n"
      ],
      "metadata": {
        "id": "bhp7cqnuIdJ9",
        "colab": {
          "base_uri": "https://localhost:8080/",
          "height": 681,
          "referenced_widgets": [
            "d67034598d854a3898f361d487c6d28d",
            "f43d74bd939b4c989e3f30ce0a412a71",
            "2790bce11c0849778e79b387719043fd",
            "5df2ae16dbfb41178b593b9e7c5849e7",
            "d75f20a4b2c44ea796323917820b7d65",
            "57695f9382474951aa04aa03978635df",
            "7052d744fa054dd993541b408e8576d4",
            "a507596a20cd46cb85040ef4524c3959",
            "5a4e43240e0248d0b2fcb59cde8122f3",
            "e2b6d7d9f23e4099b5fde7683aff1c96",
            "1938f4ee06064814962c0224f21db3d4"
          ]
        },
        "outputId": "6405bd72-c471-4540-b346-4bbab2e1c071"
      },
      "execution_count": null,
      "outputs": [
        {
          "output_type": "display_data",
          "data": {
            "text/plain": [
              "Pre/no-pre only:   0%|          | 0/5 [00:00<?, ?it/s]"
            ],
            "application/vnd.jupyter.widget-view+json": {
              "version_major": 2,
              "version_minor": 0,
              "model_id": "d67034598d854a3898f361d487c6d28d"
            }
          },
          "metadata": {}
        },
        {
          "output_type": "display_data",
          "data": {
            "text/plain": [
              "<Figure size 500x300 with 1 Axes>"
            ],
            "image/png": "[encoded data removed]"
          },
          "metadata": {}
        },
        {
          "output_type": "display_data",
          "data": {
            "text/plain": [
              "<Figure size 500x300 with 1 Axes>"
            ],
            "image/png": "[encoded data removed]"
          },
          "metadata": {}
        }
      ]
    },
    {
      "cell_type": "code",
      "source": [],
      "metadata": {
        "id": "N2Nt9atQSNDB"
      },
      "execution_count": null,
      "outputs": []
    }
  ]
}